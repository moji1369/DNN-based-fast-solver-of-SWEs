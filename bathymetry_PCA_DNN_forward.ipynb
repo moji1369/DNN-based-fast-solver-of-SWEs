{
 "cells": [
  {
   "cell_type": "code",
   "execution_count": 1,
   "metadata": {},
   "outputs": [
    {
     "name": "stderr",
     "output_type": "stream",
     "text": [
      "Using TensorFlow backend.\n"
     ]
    }
   ],
   "source": [
    "import numpy as np\n",
    "import copy\n",
    "from sklearn.model_selection import train_test_split\n",
    "import keras\n",
    "from keras.models import Model, Sequential\n",
    "from keras import regularizers\n",
    "from keras import backend as K\n",
    "import Data_prep as dp\n",
    "from scipy.io import savemat, loadmat\n",
    "from keras.losses import mse, binary_crossentropy\n",
    "from keras.layers import Reshape, Lambda, Input, Dense, Flatten, Conv2D, Conv2DTranspose\n",
    "from keras.layers import Activation, ZeroPadding2D, BatchNormalization, MaxPooling2D, UpSampling2D\n",
    "from keras.utils.vis_utils import model_to_dot\n",
    "from keras.utils import plot_model\n",
    "K.set_image_data_format('channels_last')\n",
    "import warnings\n",
    "warnings.filterwarnings(\"ignore\")\n",
    "import matplotlib.pyplot as plt\n",
    "%matplotlib inline"
   ]
  },
  {
   "cell_type": "code",
   "execution_count": 2,
   "metadata": {},
   "outputs": [
    {
     "name": "stdout",
     "output_type": "stream",
     "text": [
      "Model: \"dnn\"\n",
      "__________________________________________________________________________________________________\n",
      "Layer (type)                    Output Shape         Param #     Connected to                     \n",
      "==================================================================================================\n",
      "bathymetry (InputLayer)         (None, 50)           0                                            \n",
      "__________________________________________________________________________________________________\n",
      "BC (InputLayer)                 (None, 2)            0                                            \n",
      "__________________________________________________________________________________________________\n",
      "concatenate_1 (Concatenate)     (None, 52)           0           bathymetry[0][0]                 \n",
      "                                                                 BC[0][0]                         \n",
      "__________________________________________________________________________________________________\n",
      "dense_1 (Dense)                 (None, 200)          10600       concatenate_1[0][0]              \n",
      "__________________________________________________________________________________________________\n",
      "batch_normalization_1 (BatchNor (None, 200)          800         dense_1[0][0]                    \n",
      "__________________________________________________________________________________________________\n",
      "activation_1 (Activation)       (None, 200)          0           batch_normalization_1[0][0]      \n",
      "__________________________________________________________________________________________________\n",
      "dense_2 (Dense)                 (None, 100)          20100       activation_1[0][0]               \n",
      "__________________________________________________________________________________________________\n",
      "batch_normalization_2 (BatchNor (None, 100)          400         dense_2[0][0]                    \n",
      "__________________________________________________________________________________________________\n",
      "activation_2 (Activation)       (None, 100)          0           batch_normalization_2[0][0]      \n",
      "__________________________________________________________________________________________________\n",
      "velocity (Dense)                (None, 50)           5050        activation_2[0][0]               \n",
      "==================================================================================================\n",
      "Total params: 36,950\n",
      "Trainable params: 36,350\n",
      "Non-trainable params: 600\n",
      "__________________________________________________________________________________________________\n"
     ]
    }
   ],
   "source": [
    "#DNN:\n",
    "\n",
    "#regularization coefficient:\n",
    "l=1.0\n",
    "\n",
    "#act. func. (hidden layers)\n",
    "act='tanh'\n",
    "\n",
    "#act. func. (output layers)\n",
    "act_out='linear'\n",
    "\n",
    "#input/BC:\n",
    "BC_input = Input(shape=(2, ), name = 'BC') #BC\n",
    "bathy_input = Input(shape=(50,), name='bathymetry') #input\n",
    "x = keras.layers.concatenate([bathy_input, BC_input])\n",
    "\n",
    "#fully connected layer 1:\n",
    "x = Dense(200, kernel_regularizer = regularizers.l2(l))(x)\n",
    "x = BatchNormalization(axis = 1)(x)\n",
    "x = Activation(act)(x)\n",
    "\n",
    "#fully connected layer 2:\n",
    "x = Dense(100, kernel_regularizer = regularizers.l2(l))(x)\n",
    "x = BatchNormalization(axis = 1)(x)\n",
    "x = Activation(act)(x)\n",
    "\n",
    "#output:\n",
    "outputs = Dense(50, activation=act_out, name='velocity')(x)\n",
    "\n",
    "#set DNN model:\n",
    "dnn = Model([bathy_input,BC_input], outputs, name='dnn')\n",
    "dnn.summary()"
   ]
  },
  {
   "cell_type": "code",
   "execution_count": 3,
   "metadata": {},
   "outputs": [],
   "source": [
    "#DNN loss function (can use loss='mse' instead, but the function below allows defining custom loss function):\n",
    "\n",
    "def dnn_loss(y_true, y_pred):\n",
    "    dnn_loss = mse(K.flatten(y_true), K.flatten(y_pred))\n",
    "    return dnn_loss"
   ]
  },
  {
   "cell_type": "code",
   "execution_count": 4,
   "metadata": {},
   "outputs": [
    {
     "name": "stdout",
     "output_type": "stream",
     "text": [
      "Model: \"dnn\"\n",
      "__________________________________________________________________________________________________\n",
      "Layer (type)                    Output Shape         Param #     Connected to                     \n",
      "==================================================================================================\n",
      "bathymetry (InputLayer)         (None, 50)           0                                            \n",
      "__________________________________________________________________________________________________\n",
      "BC (InputLayer)                 (None, 2)            0                                            \n",
      "__________________________________________________________________________________________________\n",
      "concatenate_1 (Concatenate)     (None, 52)           0           bathymetry[0][0]                 \n",
      "                                                                 BC[0][0]                         \n",
      "__________________________________________________________________________________________________\n",
      "dense_1 (Dense)                 (None, 200)          10600       concatenate_1[0][0]              \n",
      "__________________________________________________________________________________________________\n",
      "batch_normalization_1 (BatchNor (None, 200)          800         dense_1[0][0]                    \n",
      "__________________________________________________________________________________________________\n",
      "activation_1 (Activation)       (None, 200)          0           batch_normalization_1[0][0]      \n",
      "__________________________________________________________________________________________________\n",
      "dense_2 (Dense)                 (None, 100)          20100       activation_1[0][0]               \n",
      "__________________________________________________________________________________________________\n",
      "batch_normalization_2 (BatchNor (None, 100)          400         dense_2[0][0]                    \n",
      "__________________________________________________________________________________________________\n",
      "activation_2 (Activation)       (None, 100)          0           batch_normalization_2[0][0]      \n",
      "__________________________________________________________________________________________________\n",
      "velocity (Dense)                (None, 50)           5050        activation_2[0][0]               \n",
      "==================================================================================================\n",
      "Total params: 36,950\n",
      "Trainable params: 36,350\n",
      "Non-trainable params: 600\n",
      "__________________________________________________________________________________________________\n"
     ]
    }
   ],
   "source": [
    "#compile DNN:\n",
    "\n",
    "opt = keras.optimizers.Adam(lr=0.001, beta_1=0.9, beta_2=0.999, decay=0.001, amsgrad=False)\n",
    "\n",
    "dnn.compile(optimizer=opt, loss=dnn_loss)\n",
    "dnn.summary()"
   ]
  },
  {
   "cell_type": "code",
   "execution_count": 5,
   "metadata": {},
   "outputs": [
    {
     "name": "stdout",
     "output_type": "stream",
     "text": [
      "(1, 4500)\n",
      "(20541, 4500)\n"
     ]
    }
   ],
   "source": [
    "#load/read train and validation data\n",
    "\n",
    "data = loadmat('Sav_BC_func_PCGA_1std_noise10_std4_zmax94_48_12_s0_5_6.mat')\n",
    "\n",
    "vel0 = data['velocity_prof'] #velocities\n",
    "z_f0 = data['z_f'] #free surface elevation\n",
    "Q_b0 = data['Q_b'] #influx\n",
    "Z0 = data['Z'] #bathymetry\n",
    "\n",
    "#check data shape:\n",
    "print(z_f0.shape)\n",
    "print(Z0.shape)"
   ]
  },
  {
   "cell_type": "code",
   "execution_count": 6,
   "metadata": {},
   "outputs": [
    {
     "name": "stdout",
     "output_type": "stream",
     "text": [
      "(1, 450)\n",
      "(20541, 450)\n"
     ]
    }
   ],
   "source": [
    "#load/read test data\n",
    "\n",
    "data = loadmat('Sav_BC_func_PCGA_1std_noise10_std4_zmax94_48_12_s0_5_6_test.mat')\n",
    "\n",
    "vel1 = data['velocity_prof'] #velocities\n",
    "z_f1 = data['z_f'] #free surface elevation\n",
    "Q_b1 = data['Q_b'] #influx\n",
    "Z1 = data['Z'] #bathymetry\n",
    "\n",
    "#check data shape:\n",
    "print(z_f1.shape)\n",
    "print(Z1.shape)"
   ]
  },
  {
   "cell_type": "code",
   "execution_count": 7,
   "metadata": {},
   "outputs": [
    {
     "name": "stdout",
     "output_type": "stream",
     "text": [
      "(41082, 4950)\n",
      "(1, 4950)\n",
      "(20541, 4950)\n",
      "(20541, 4950)\n"
     ]
    }
   ],
   "source": [
    "#join train/validation and test set\n",
    "\n",
    "vel = np.concatenate((vel0,vel1),axis=1)\n",
    "z_f = np.concatenate((z_f0,z_f1),axis=1)\n",
    "Q_b = np.concatenate((Q_b0,Q_b1),axis=1)\n",
    "Z = np.concatenate((Z0,Z1),axis=1)\n",
    "vx, vy, _ = dp.xy_vel_sep(vel) #v_x/v_y separation\n",
    "\n",
    "#check data shape:\n",
    "print(vel.shape)\n",
    "print(z_f.shape)\n",
    "print(vx.shape)\n",
    "print(Z.shape)"
   ]
  },
  {
   "cell_type": "code",
   "execution_count": 8,
   "metadata": {},
   "outputs": [
    {
     "name": "stdout",
     "output_type": "stream",
     "text": [
      "(2, 4950)\n",
      "0.9531882083041187\n",
      "0.9988410701086574\n"
     ]
    }
   ],
   "source": [
    "#normalize BC (ensure it's between 0 and 1):\n",
    "\n",
    "BC = np.zeros((2, z_f.shape[1]))\n",
    "BC[0,:] = z_f/120\n",
    "BC[1,:] = Q_b/30000\n",
    "\n",
    "#check shapes and maxes:\n",
    "print(BC.shape)\n",
    "print(max(BC[0,:]))\n",
    "print(max(BC[1,:]))"
   ]
  },
  {
   "cell_type": "code",
   "execution_count": 9,
   "metadata": {},
   "outputs": [
    {
     "name": "stdout",
     "output_type": "stream",
     "text": [
      "17344\n"
     ]
    }
   ],
   "source": [
    "# data preparation:\n",
    "\n",
    "#generate a seed number for reproducibility:\n",
    "seed_num=np.random.randint(0,1e5) \n",
    "#seed_num=0 #use for reproducing a previously known seed #\n",
    "print(seed_num)\n",
    "\n",
    "#generate seed:\n",
    "np.random.seed(seed_num)\n",
    "\n",
    "M=0 #where the first index of data is\n",
    "P=450 #size of test set\n",
    "H=10 #number of BCs for each profile\n",
    "\n",
    "#shuffle based on the seed:\n",
    "indx=np.array(np.arange(0+M,Z[:,0:].shape[1]-P,H),dtype=int) #original indices (ascending) \n",
    "indx_new=copy.deepcopy(indx) #new (to be shuffled) indices\n",
    "np.random.shuffle(indx_new) #shuffled idices\n",
    "\n",
    "#create shuffled input/outputs:\n",
    "Z_shfl=copy.deepcopy(Z[:,0:])\n",
    "vx_shfl=copy.deepcopy(vx[:,0:])\n",
    "vy_shfl=copy.deepcopy(vy[:,0:])\n",
    "BC_shfl=copy.deepcopy(BC[:,0:])\n",
    "for i in range(indx_new.shape[0]):\n",
    "    Z_shfl[:,i*H+M:i*H+H+M]=Z[:,indx_new[i]:indx_new[i]+H]\n",
    "    vx_shfl[:,i*H+M:i*H+H+M]=vx[:,indx_new[i]:indx_new[i]+H]\n",
    "    vy_shfl[:,i*H+M:i*H+H+M]=vx[:,indx_new[i]:indx_new[i]+H]\n",
    "    BC_shfl[:,i*H+M:i*H+H+M]=BC[:,indx_new[i]:indx_new[i]+H]"
   ]
  },
  {
   "cell_type": "code",
   "execution_count": 10,
   "metadata": {},
   "outputs": [],
   "source": [
    "#PCA on input:\n",
    "\n",
    "N=4500 # number of data to be used (train+validation)\n",
    "val_split=0.1 #validation split (fraction of train/validation set to be used for validation)\n",
    "\n",
    "U_Z,_,_ = np.linalg.svd(Z_shfl[:,:int(N-val_split*N)], full_matrices='False') #SVD"
   ]
  },
  {
   "cell_type": "code",
   "execution_count": 11,
   "metadata": {},
   "outputs": [],
   "source": [
    "#PCA on output:\n",
    "\n",
    "U_vx,_,_ = np.linalg.svd(vx_shfl[:,:int(N-val_split*N)], full_matrices='False') #SVD"
   ]
  },
  {
   "cell_type": "code",
   "execution_count": 12,
   "metadata": {},
   "outputs": [],
   "source": [
    "#saving lowranks if necessary (check out the memoery, it is large!):\n",
    "\n",
    "savemat('pca_Z',{'U_Z':U_Z})\n",
    "savemat('pca_vx',{'U_vx':U_vx})"
   ]
  },
  {
   "cell_type": "code",
   "execution_count": 67,
   "metadata": {},
   "outputs": [],
   "source": [
    "#loading lowranks if necessary :\n",
    "\n",
    "data = loadmat('pca_Z.mat')\n",
    "U_Z = data['U_Z']\n",
    "data = loadmat('pca_vx.mat')\n",
    "U_vx = data['U_vx']\n",
    "del data"
   ]
  },
  {
   "cell_type": "code",
   "execution_count": 13,
   "metadata": {},
   "outputs": [
    {
     "name": "stdout",
     "output_type": "stream",
     "text": [
      "(4950, 50)\n"
     ]
    }
   ],
   "source": [
    "#input projection:\n",
    "\n",
    "n_low_Z = 50 #low rank dim\n",
    "proj_Z = U_Z[:,:n_low_Z].T.dot(Z_shfl)\n",
    "\n",
    "x_train_shfl=proj_Z.T #input (Z)\n",
    "\n",
    "#check shapes:\n",
    "print(x_train_shfl.shape)"
   ]
  },
  {
   "cell_type": "code",
   "execution_count": 14,
   "metadata": {},
   "outputs": [
    {
     "name": "stdout",
     "output_type": "stream",
     "text": [
      "(4950, 50)\n"
     ]
    }
   ],
   "source": [
    "#output projection:\n",
    "\n",
    "n_low_vx = 50 #low rank dim\n",
    "proj_vx = U_vx[:,:n_low_vx].T.dot(vx_shfl)\n",
    "\n",
    "y_train_shfl=proj_vx.T #output (vx; can be replaced with vy or both vx/vy)\n",
    "\n",
    "#check shapes:\n",
    "print(y_train_shfl.shape)"
   ]
  },
  {
   "cell_type": "code",
   "execution_count": 15,
   "metadata": {},
   "outputs": [
    {
     "name": "stdout",
     "output_type": "stream",
     "text": [
      "(50,)\n",
      "(50,)\n",
      "(50,)\n",
      "(50,)\n"
     ]
    }
   ],
   "source": [
    "#find normalizing parameters:\n",
    "\n",
    "x_min = np.mean(x_train_shfl[:int(N-val_split*N),:], axis=0)\n",
    "y_min = np.mean(y_train_shfl[:int(N-val_split*N),:], axis=0)\n",
    "x_range = np.std(x_train_shfl[:int(N-val_split*N),:], axis=0)\n",
    "x_range[x_range==0]=1\n",
    "y_range = np.std(y_train_shfl[:int(N-val_split*N),:], axis=0)\n",
    "y_range[y_range==0]=1\n",
    "\n",
    "#check shapes:\n",
    "print(x_min.shape)\n",
    "print(y_min.shape)\n",
    "print(x_range.shape)\n",
    "print(y_range.shape)"
   ]
  },
  {
   "cell_type": "code",
   "execution_count": 16,
   "metadata": {},
   "outputs": [
    {
     "name": "stdout",
     "output_type": "stream",
     "text": [
      "(4950, 50)\n",
      "(4950, 50)\n",
      "-3.5451584806286736\n",
      "-8.433328883335525\n",
      "4.0108749869077425\n",
      "10.611785039968181\n"
     ]
    }
   ],
   "source": [
    "#normalize input/outputs:\n",
    "\n",
    "x_train_norm_shfl = (x_train_shfl-x_min)/x_range \n",
    "y_train_norm_shfl = (y_train_shfl-y_min)/y_range \n",
    "\n",
    "#check shapes:\n",
    "print(x_train_norm_shfl.shape)\n",
    "print(y_train_norm_shfl.shape)\n",
    "\n",
    "#check min/max:\n",
    "print(np.min(x_train_norm_shfl[:int(N-val_split*N),:]))\n",
    "print(np.min(y_train_norm_shfl[:int(N-val_split*N),:]))\n",
    "print(np.max(x_train_norm_shfl[:int(N-val_split*N),:]))\n",
    "print(np.max(y_train_norm_shfl[:int(N-val_split*N),:]))"
   ]
  },
  {
   "cell_type": "code",
   "execution_count": 17,
   "metadata": {},
   "outputs": [
    {
     "name": "stdout",
     "output_type": "stream",
     "text": [
      "Train on 4050 samples, validate on 450 samples\n",
      "Epoch 1/200\n",
      "4050/4050 [==============================] - 1s 183us/step - loss: 74.5511 - val_loss: 12.2724\n",
      "Epoch 2/200\n",
      "4050/4050 [==============================] - 0s 45us/step - loss: 4.7433 - val_loss: 1.7991\n",
      "Epoch 3/200\n",
      "4050/4050 [==============================] - 0s 45us/step - loss: 1.5748 - val_loss: 1.3044\n",
      "Epoch 4/200\n",
      "4050/4050 [==============================] - 0s 46us/step - loss: 1.3232 - val_loss: 1.1719\n",
      "Epoch 5/200\n",
      "4050/4050 [==============================] - 0s 45us/step - loss: 1.2584 - val_loss: 1.1014\n",
      "Epoch 6/200\n",
      "4050/4050 [==============================] - 0s 45us/step - loss: 1.1745 - val_loss: 1.0609\n",
      "Epoch 7/200\n",
      "4050/4050 [==============================] - ETA: 0s - loss: 1.120 - 0s 50us/step - loss: 1.1307 - val_loss: 1.0059\n",
      "Epoch 8/200\n",
      "4050/4050 [==============================] - 0s 61us/step - loss: 1.0923 - val_loss: 0.9763\n",
      "Epoch 9/200\n",
      "4050/4050 [==============================] - 0s 50us/step - loss: 1.0519 - val_loss: 0.9534\n",
      "Epoch 10/200\n",
      "4050/4050 [==============================] - 0s 43us/step - loss: 1.0248 - val_loss: 0.9250\n",
      "Epoch 11/200\n",
      "4050/4050 [==============================] - 0s 56us/step - loss: 0.9966 - val_loss: 0.9111\n",
      "Epoch 12/200\n",
      "4050/4050 [==============================] - 0s 51us/step - loss: 0.9788 - val_loss: 0.8869\n",
      "Epoch 13/200\n",
      "4050/4050 [==============================] - 0s 48us/step - loss: 0.9629 - val_loss: 0.8692\n",
      "Epoch 14/200\n",
      "4050/4050 [==============================] - 0s 42us/step - loss: 0.9505 - val_loss: 0.8557\n",
      "Epoch 15/200\n",
      "4050/4050 [==============================] - 0s 44us/step - loss: 0.9398 - val_loss: 0.8448\n",
      "Epoch 16/200\n",
      "4050/4050 [==============================] - 0s 44us/step - loss: 0.9289 - val_loss: 0.8339\n",
      "Epoch 17/200\n",
      "4050/4050 [==============================] - 0s 44us/step - loss: 0.9202 - val_loss: 0.8234\n",
      "Epoch 18/200\n",
      "4050/4050 [==============================] - 0s 42us/step - loss: 0.9117 - val_loss: 0.8120\n",
      "Epoch 19/200\n",
      "4050/4050 [==============================] - 0s 43us/step - loss: 0.8990 - val_loss: 0.8014\n",
      "Epoch 20/200\n",
      "4050/4050 [==============================] - 0s 44us/step - loss: 0.8924 - val_loss: 0.7944\n",
      "Epoch 21/200\n",
      "4050/4050 [==============================] - 0s 41us/step - loss: 0.8839 - val_loss: 0.7866\n",
      "Epoch 22/200\n",
      "4050/4050 [==============================] - 0s 42us/step - loss: 0.8793 - val_loss: 0.7821\n",
      "Epoch 23/200\n",
      "4050/4050 [==============================] - 0s 45us/step - loss: 0.8695 - val_loss: 0.7728\n",
      "Epoch 24/200\n",
      "4050/4050 [==============================] - 0s 44us/step - loss: 0.8631 - val_loss: 0.7659\n",
      "Epoch 25/200\n",
      "4050/4050 [==============================] - 0s 43us/step - loss: 0.8572 - val_loss: 0.7627\n",
      "Epoch 26/200\n",
      "4050/4050 [==============================] - 0s 43us/step - loss: 0.8513 - val_loss: 0.7632\n",
      "Epoch 27/200\n",
      "4050/4050 [==============================] - 0s 40us/step - loss: 0.8469 - val_loss: 0.7562\n",
      "Epoch 28/200\n",
      "4050/4050 [==============================] - 0s 41us/step - loss: 0.8403 - val_loss: 0.7488\n",
      "Epoch 29/200\n",
      "4050/4050 [==============================] - 0s 40us/step - loss: 0.8346 - val_loss: 0.7436\n",
      "Epoch 30/200\n",
      "4050/4050 [==============================] - 0s 41us/step - loss: 0.8291 - val_loss: 0.7341\n",
      "Epoch 31/200\n",
      "4050/4050 [==============================] - 0s 40us/step - loss: 0.8240 - val_loss: 0.7318\n",
      "Epoch 32/200\n",
      "4050/4050 [==============================] - 0s 41us/step - loss: 0.8189 - val_loss: 0.7281\n",
      "Epoch 33/200\n",
      "4050/4050 [==============================] - 0s 41us/step - loss: 0.8144 - val_loss: 0.7239\n",
      "Epoch 34/200\n",
      "4050/4050 [==============================] - 0s 41us/step - loss: 0.8103 - val_loss: 0.7222\n",
      "Epoch 35/200\n",
      "4050/4050 [==============================] - 0s 46us/step - loss: 0.8066 - val_loss: 0.7174\n",
      "Epoch 36/200\n",
      "4050/4050 [==============================] - 0s 40us/step - loss: 0.8026 - val_loss: 0.7156\n",
      "Epoch 37/200\n",
      "4050/4050 [==============================] - 0s 41us/step - loss: 0.7995 - val_loss: 0.7135\n",
      "Epoch 38/200\n",
      "4050/4050 [==============================] - 0s 40us/step - loss: 0.7967 - val_loss: 0.7114\n",
      "Epoch 39/200\n",
      "4050/4050 [==============================] - 0s 39us/step - loss: 0.7934 - val_loss: 0.7086\n",
      "Epoch 40/200\n",
      "4050/4050 [==============================] - 0s 40us/step - loss: 0.7901 - val_loss: 0.7075\n",
      "Epoch 41/200\n",
      "4050/4050 [==============================] - 0s 41us/step - loss: 0.7873 - val_loss: 0.7034\n",
      "Epoch 42/200\n",
      "4050/4050 [==============================] - 0s 39us/step - loss: 0.7850 - val_loss: 0.7009\n",
      "Epoch 43/200\n",
      "4050/4050 [==============================] - 0s 39us/step - loss: 0.7815 - val_loss: 0.6967\n",
      "Epoch 44/200\n",
      "4050/4050 [==============================] - 0s 41us/step - loss: 0.7780 - val_loss: 0.6929\n",
      "Epoch 45/200\n",
      "4050/4050 [==============================] - 0s 41us/step - loss: 0.7754 - val_loss: 0.6907\n",
      "Epoch 46/200\n",
      "4050/4050 [==============================] - 0s 43us/step - loss: 0.7724 - val_loss: 0.6864\n",
      "Epoch 47/200\n",
      "4050/4050 [==============================] - 0s 43us/step - loss: 0.7693 - val_loss: 0.6842\n",
      "Epoch 48/200\n",
      "4050/4050 [==============================] - 0s 45us/step - loss: 0.7667 - val_loss: 0.6829\n",
      "Epoch 49/200\n",
      "4050/4050 [==============================] - 0s 52us/step - loss: 0.7650 - val_loss: 0.6815\n",
      "Epoch 50/200\n",
      "4050/4050 [==============================] - 0s 44us/step - loss: 0.7626 - val_loss: 0.6807\n",
      "Epoch 51/200\n",
      "4050/4050 [==============================] - 0s 40us/step - loss: 0.7606 - val_loss: 0.6789\n",
      "Epoch 52/200\n",
      "4050/4050 [==============================] - 0s 40us/step - loss: 0.7578 - val_loss: 0.6777\n",
      "Epoch 53/200\n",
      "4050/4050 [==============================] - 0s 41us/step - loss: 0.7558 - val_loss: 0.6744\n",
      "Epoch 54/200\n",
      "4050/4050 [==============================] - 0s 40us/step - loss: 0.7529 - val_loss: 0.6731\n",
      "Epoch 55/200\n",
      "4050/4050 [==============================] - 0s 40us/step - loss: 0.7513 - val_loss: 0.6703\n",
      "Epoch 56/200\n",
      "4050/4050 [==============================] - 0s 40us/step - loss: 0.7492 - val_loss: 0.6714\n",
      "Epoch 57/200\n",
      "4050/4050 [==============================] - 0s 40us/step - loss: 0.7478 - val_loss: 0.6674\n",
      "Epoch 58/200\n",
      "4050/4050 [==============================] - 0s 40us/step - loss: 0.7458 - val_loss: 0.6693\n",
      "Epoch 59/200\n",
      "4050/4050 [==============================] - 0s 40us/step - loss: 0.7444 - val_loss: 0.6658\n",
      "Epoch 60/200\n",
      "4050/4050 [==============================] - 0s 40us/step - loss: 0.7420 - val_loss: 0.6652\n",
      "Epoch 61/200\n",
      "4050/4050 [==============================] - 0s 41us/step - loss: 0.7402 - val_loss: 0.6620\n",
      "Epoch 62/200\n",
      "4050/4050 [==============================] - 0s 41us/step - loss: 0.7383 - val_loss: 0.6630\n",
      "Epoch 63/200\n",
      "4050/4050 [==============================] - 0s 40us/step - loss: 0.7370 - val_loss: 0.6599\n",
      "Epoch 64/200\n",
      "4050/4050 [==============================] - 0s 40us/step - loss: 0.7353 - val_loss: 0.6601\n",
      "Epoch 65/200\n",
      "4050/4050 [==============================] - 0s 40us/step - loss: 0.7340 - val_loss: 0.6573\n",
      "Epoch 66/200\n",
      "4050/4050 [==============================] - 0s 40us/step - loss: 0.7327 - val_loss: 0.6571\n",
      "Epoch 67/200\n",
      "4050/4050 [==============================] - 0s 40us/step - loss: 0.7312 - val_loss: 0.6554\n",
      "Epoch 68/200\n",
      "4050/4050 [==============================] - 0s 40us/step - loss: 0.7294 - val_loss: 0.6540\n",
      "Epoch 69/200\n",
      "4050/4050 [==============================] - 0s 41us/step - loss: 0.7285 - val_loss: 0.6530\n",
      "Epoch 70/200\n",
      "4050/4050 [==============================] - 0s 41us/step - loss: 0.7270 - val_loss: 0.6528\n",
      "Epoch 71/200\n",
      "4050/4050 [==============================] - 0s 40us/step - loss: 0.7256 - val_loss: 0.6501\n",
      "Epoch 72/200\n",
      "4050/4050 [==============================] - 0s 41us/step - loss: 0.7242 - val_loss: 0.6496\n",
      "Epoch 73/200\n",
      "4050/4050 [==============================] - 0s 40us/step - loss: 0.7231 - val_loss: 0.6478\n",
      "Epoch 74/200\n",
      "4050/4050 [==============================] - 0s 40us/step - loss: 0.7216 - val_loss: 0.6474\n",
      "Epoch 75/200\n",
      "4050/4050 [==============================] - 0s 40us/step - loss: 0.7204 - val_loss: 0.6459\n",
      "Epoch 76/200\n",
      "4050/4050 [==============================] - 0s 41us/step - loss: 0.7191 - val_loss: 0.6447\n",
      "Epoch 77/200\n",
      "4050/4050 [==============================] - 0s 41us/step - loss: 0.7181 - val_loss: 0.6445\n",
      "Epoch 78/200\n"
     ]
    },
    {
     "name": "stdout",
     "output_type": "stream",
     "text": [
      "4050/4050 [==============================] - 0s 40us/step - loss: 0.7168 - val_loss: 0.6435\n",
      "Epoch 79/200\n",
      "4050/4050 [==============================] - 0s 40us/step - loss: 0.7157 - val_loss: 0.6426\n",
      "Epoch 80/200\n",
      "4050/4050 [==============================] - 0s 40us/step - loss: 0.7144 - val_loss: 0.6411\n",
      "Epoch 81/200\n",
      "4050/4050 [==============================] - 0s 41us/step - loss: 0.7134 - val_loss: 0.6407\n",
      "Epoch 82/200\n",
      "4050/4050 [==============================] - 0s 41us/step - loss: 0.7122 - val_loss: 0.6402\n",
      "Epoch 83/200\n",
      "4050/4050 [==============================] - 0s 41us/step - loss: 0.7112 - val_loss: 0.6391\n",
      "Epoch 84/200\n",
      "4050/4050 [==============================] - 0s 44us/step - loss: 0.7101 - val_loss: 0.6387\n",
      "Epoch 85/200\n",
      "4050/4050 [==============================] - 0s 62us/step - loss: 0.7091 - val_loss: 0.6374\n",
      "Epoch 86/200\n",
      "4050/4050 [==============================] - 0s 54us/step - loss: 0.7080 - val_loss: 0.6368\n",
      "Epoch 87/200\n",
      "4050/4050 [==============================] - 0s 47us/step - loss: 0.7070 - val_loss: 0.6362\n",
      "Epoch 88/200\n",
      "4050/4050 [==============================] - 0s 40us/step - loss: 0.7060 - val_loss: 0.6352\n",
      "Epoch 89/200\n",
      "4050/4050 [==============================] - 0s 44us/step - loss: 0.7050 - val_loss: 0.6348\n",
      "Epoch 90/200\n",
      "4050/4050 [==============================] - 0s 39us/step - loss: 0.7040 - val_loss: 0.6336\n",
      "Epoch 91/200\n",
      "4050/4050 [==============================] - 0s 48us/step - loss: 0.7031 - val_loss: 0.6335\n",
      "Epoch 92/200\n",
      "4050/4050 [==============================] - 0s 56us/step - loss: 0.7022 - val_loss: 0.6330\n",
      "Epoch 93/200\n",
      "4050/4050 [==============================] - 0s 47us/step - loss: 0.7013 - val_loss: 0.6318\n",
      "Epoch 94/200\n",
      "4050/4050 [==============================] - 0s 48us/step - loss: 0.7004 - val_loss: 0.6317\n",
      "Epoch 95/200\n",
      "4050/4050 [==============================] - 0s 43us/step - loss: 0.6995 - val_loss: 0.6305\n",
      "Epoch 96/200\n",
      "4050/4050 [==============================] - 0s 43us/step - loss: 0.6986 - val_loss: 0.6303\n",
      "Epoch 97/200\n",
      "4050/4050 [==============================] - 0s 44us/step - loss: 0.6977 - val_loss: 0.6295\n",
      "Epoch 98/200\n",
      "4050/4050 [==============================] - 0s 44us/step - loss: 0.6968 - val_loss: 0.6286\n",
      "Epoch 99/200\n",
      "4050/4050 [==============================] - 0s 42us/step - loss: 0.6960 - val_loss: 0.6283\n",
      "Epoch 100/200\n",
      "4050/4050 [==============================] - 0s 45us/step - loss: 0.6951 - val_loss: 0.6279\n",
      "Epoch 101/200\n",
      "4050/4050 [==============================] - 0s 44us/step - loss: 0.6944 - val_loss: 0.6270\n",
      "Epoch 102/200\n",
      "4050/4050 [==============================] - 0s 44us/step - loss: 0.6936 - val_loss: 0.6268\n",
      "Epoch 103/200\n",
      "4050/4050 [==============================] - 0s 44us/step - loss: 0.6928 - val_loss: 0.6259\n",
      "Epoch 104/200\n",
      "4050/4050 [==============================] - 0s 42us/step - loss: 0.6920 - val_loss: 0.6253\n",
      "Epoch 105/200\n",
      "4050/4050 [==============================] - 0s 43us/step - loss: 0.6912 - val_loss: 0.6255\n",
      "Epoch 106/200\n",
      "4050/4050 [==============================] - 0s 44us/step - loss: 0.6904 - val_loss: 0.6242\n",
      "Epoch 107/200\n",
      "4050/4050 [==============================] - 0s 43us/step - loss: 0.6897 - val_loss: 0.6245\n",
      "Epoch 108/200\n",
      "4050/4050 [==============================] - 0s 43us/step - loss: 0.6889 - val_loss: 0.6245\n",
      "Epoch 109/200\n",
      "4050/4050 [==============================] - 0s 43us/step - loss: 0.6882 - val_loss: 0.6231\n",
      "Epoch 110/200\n",
      "4050/4050 [==============================] - 0s 43us/step - loss: 0.6875 - val_loss: 0.6223\n",
      "Epoch 111/200\n",
      "4050/4050 [==============================] - 0s 43us/step - loss: 0.6868 - val_loss: 0.6228\n",
      "Epoch 112/200\n",
      "4050/4050 [==============================] - 0s 44us/step - loss: 0.6861 - val_loss: 0.6212\n",
      "Epoch 113/200\n",
      "4050/4050 [==============================] - 0s 43us/step - loss: 0.6854 - val_loss: 0.6217\n",
      "Epoch 114/200\n",
      "4050/4050 [==============================] - 0s 43us/step - loss: 0.6847 - val_loss: 0.6216\n",
      "Epoch 115/200\n",
      "4050/4050 [==============================] - 0s 42us/step - loss: 0.6840 - val_loss: 0.6203\n",
      "Epoch 116/200\n",
      "4050/4050 [==============================] - 0s 43us/step - loss: 0.6833 - val_loss: 0.6219\n",
      "Epoch 117/200\n",
      "4050/4050 [==============================] - 0s 44us/step - loss: 0.6827 - val_loss: 0.6190\n",
      "Epoch 118/200\n",
      "4050/4050 [==============================] - 0s 44us/step - loss: 0.6820 - val_loss: 0.6202\n",
      "Epoch 119/200\n",
      "4050/4050 [==============================] - 0s 43us/step - loss: 0.6814 - val_loss: 0.6191\n",
      "Epoch 120/200\n",
      "4050/4050 [==============================] - 0s 40us/step - loss: 0.6807 - val_loss: 0.6185\n",
      "Epoch 121/200\n",
      "4050/4050 [==============================] - 0s 41us/step - loss: 0.6801 - val_loss: 0.6193\n",
      "Epoch 122/200\n",
      "4050/4050 [==============================] - 0s 40us/step - loss: 0.6795 - val_loss: 0.6172\n",
      "Epoch 123/200\n",
      "4050/4050 [==============================] - 0s 42us/step - loss: 0.6789 - val_loss: 0.6186\n",
      "Epoch 124/200\n",
      "4050/4050 [==============================] - 0s 42us/step - loss: 0.6783 - val_loss: 0.6173\n",
      "Epoch 125/200\n",
      "4050/4050 [==============================] - 0s 40us/step - loss: 0.6777 - val_loss: 0.6166\n",
      "Epoch 126/200\n",
      "4050/4050 [==============================] - 0s 40us/step - loss: 0.6771 - val_loss: 0.6178\n",
      "Epoch 127/200\n",
      "4050/4050 [==============================] - 0s 40us/step - loss: 0.6765 - val_loss: 0.6161\n",
      "Epoch 128/200\n",
      "4050/4050 [==============================] - 0s 40us/step - loss: 0.6759 - val_loss: 0.6175\n",
      "Epoch 129/200\n",
      "4050/4050 [==============================] - 0s 41us/step - loss: 0.6753 - val_loss: 0.6161\n",
      "Epoch 130/200\n",
      "4050/4050 [==============================] - 0s 40us/step - loss: 0.6747 - val_loss: 0.6166\n",
      "Epoch 131/200\n",
      "4050/4050 [==============================] - 0s 40us/step - loss: 0.6742 - val_loss: 0.6147\n",
      "Epoch 132/200\n",
      "4050/4050 [==============================] - 0s 41us/step - loss: 0.6736 - val_loss: 0.6155\n",
      "Epoch 133/200\n",
      "4050/4050 [==============================] - 0s 40us/step - loss: 0.6731 - val_loss: 0.6137\n",
      "Epoch 134/200\n",
      "4050/4050 [==============================] - 0s 41us/step - loss: 0.6725 - val_loss: 0.6146\n",
      "Epoch 135/200\n",
      "4050/4050 [==============================] - 0s 41us/step - loss: 0.6720 - val_loss: 0.6147\n",
      "Epoch 136/200\n",
      "4050/4050 [==============================] - 0s 40us/step - loss: 0.6714 - val_loss: 0.6139\n",
      "Epoch 137/200\n",
      "4050/4050 [==============================] - 0s 41us/step - loss: 0.6709 - val_loss: 0.6145\n",
      "Epoch 138/200\n",
      "4050/4050 [==============================] - 0s 40us/step - loss: 0.6704 - val_loss: 0.6138\n",
      "Epoch 139/200\n",
      "4050/4050 [==============================] - 0s 41us/step - loss: 0.6698 - val_loss: 0.6132\n",
      "Epoch 140/200\n",
      "4050/4050 [==============================] - 0s 41us/step - loss: 0.6693 - val_loss: 0.6141\n",
      "Epoch 141/200\n",
      "4050/4050 [==============================] - 0s 40us/step - loss: 0.6688 - val_loss: 0.6126\n",
      "Epoch 142/200\n",
      "4050/4050 [==============================] - 0s 41us/step - loss: 0.6683 - val_loss: 0.6146\n",
      "Epoch 143/200\n",
      "4050/4050 [==============================] - 0s 41us/step - loss: 0.6678 - val_loss: 0.6132\n",
      "Epoch 144/200\n",
      "4050/4050 [==============================] - 0s 41us/step - loss: 0.6673 - val_loss: 0.6136\n",
      "Epoch 145/200\n",
      "4050/4050 [==============================] - 0s 42us/step - loss: 0.6668 - val_loss: 0.6142\n",
      "Epoch 146/200\n",
      "4050/4050 [==============================] - 0s 41us/step - loss: 0.6663 - val_loss: 0.6122\n",
      "Epoch 147/200\n",
      "4050/4050 [==============================] - 0s 40us/step - loss: 0.6658 - val_loss: 0.6163\n",
      "Epoch 148/200\n",
      "4050/4050 [==============================] - 0s 41us/step - loss: 0.6653 - val_loss: 0.6128\n",
      "Epoch 149/200\n",
      "4050/4050 [==============================] - 0s 41us/step - loss: 0.6648 - val_loss: 0.6144\n",
      "Epoch 150/200\n",
      "4050/4050 [==============================] - 0s 41us/step - loss: 0.6644 - val_loss: 0.6131\n",
      "Epoch 151/200\n",
      "4050/4050 [==============================] - 0s 41us/step - loss: 0.6639 - val_loss: 0.6123\n",
      "Epoch 152/200\n",
      "4050/4050 [==============================] - 0s 40us/step - loss: 0.6634 - val_loss: 0.6136\n",
      "Epoch 153/200\n",
      "4050/4050 [==============================] - 0s 41us/step - loss: 0.6630 - val_loss: 0.6130\n",
      "Epoch 154/200\n",
      "4050/4050 [==============================] - 0s 41us/step - loss: 0.6625 - val_loss: 0.6142\n",
      "Epoch 155/200\n"
     ]
    },
    {
     "name": "stdout",
     "output_type": "stream",
     "text": [
      "4050/4050 [==============================] - 0s 40us/step - loss: 0.6621 - val_loss: 0.6126\n",
      "Epoch 156/200\n",
      "4050/4050 [==============================] - 0s 41us/step - loss: 0.6616 - val_loss: 0.6135\n",
      "Epoch 157/200\n",
      "4050/4050 [==============================] - 0s 39us/step - loss: 0.6612 - val_loss: 0.6118\n",
      "Epoch 158/200\n",
      "4050/4050 [==============================] - 0s 40us/step - loss: 0.6607 - val_loss: 0.6138\n",
      "Epoch 159/200\n",
      "4050/4050 [==============================] - 0s 41us/step - loss: 0.6603 - val_loss: 0.6122\n",
      "Epoch 160/200\n",
      "4050/4050 [==============================] - 0s 39us/step - loss: 0.6599 - val_loss: 0.6142\n",
      "Epoch 161/200\n",
      "4050/4050 [==============================] - 0s 41us/step - loss: 0.6594 - val_loss: 0.6123\n",
      "Epoch 162/200\n",
      "4050/4050 [==============================] - 0s 40us/step - loss: 0.6590 - val_loss: 0.6127\n",
      "Epoch 163/200\n",
      "4050/4050 [==============================] - 0s 40us/step - loss: 0.6585 - val_loss: 0.6137\n",
      "Epoch 164/200\n",
      "4050/4050 [==============================] - 0s 40us/step - loss: 0.6581 - val_loss: 0.6117\n",
      "Epoch 165/200\n",
      "4050/4050 [==============================] - 0s 40us/step - loss: 0.6577 - val_loss: 0.6152\n",
      "Epoch 166/200\n",
      "4050/4050 [==============================] - 0s 40us/step - loss: 0.6573 - val_loss: 0.6116\n",
      "Epoch 167/200\n",
      "4050/4050 [==============================] - 0s 41us/step - loss: 0.6569 - val_loss: 0.6143\n",
      "Epoch 168/200\n",
      "4050/4050 [==============================] - 0s 39us/step - loss: 0.6565 - val_loss: 0.6123\n",
      "Epoch 169/200\n",
      "4050/4050 [==============================] - 0s 40us/step - loss: 0.6561 - val_loss: 0.6117\n",
      "Epoch 170/200\n",
      "4050/4050 [==============================] - 0s 43us/step - loss: 0.6557 - val_loss: 0.6144\n",
      "Epoch 171/200\n",
      "4050/4050 [==============================] - 0s 39us/step - loss: 0.6553 - val_loss: 0.6118\n",
      "Epoch 172/200\n",
      "4050/4050 [==============================] - 0s 48us/step - loss: 0.6549 - val_loss: 0.6163\n",
      "Epoch 173/200\n",
      "4050/4050 [==============================] - 0s 42us/step - loss: 0.6545 - val_loss: 0.6121\n",
      "Epoch 174/200\n",
      "4050/4050 [==============================] - 0s 43us/step - loss: 0.6541 - val_loss: 0.6135\n",
      "Epoch 175/200\n",
      "4050/4050 [==============================] - 0s 43us/step - loss: 0.6537 - val_loss: 0.6129\n",
      "Epoch 176/200\n",
      "4050/4050 [==============================] - 0s 43us/step - loss: 0.6533 - val_loss: 0.6120\n",
      "Epoch 177/200\n",
      "4050/4050 [==============================] - 0s 40us/step - loss: 0.6529 - val_loss: 0.6145\n",
      "Epoch 178/200\n",
      "4050/4050 [==============================] - 0s 41us/step - loss: 0.6526 - val_loss: 0.6128\n",
      "Epoch 179/200\n",
      "4050/4050 [==============================] - 0s 41us/step - loss: 0.6522 - val_loss: 0.6148\n",
      "Epoch 180/200\n",
      "4050/4050 [==============================] - 0s 40us/step - loss: 0.6518 - val_loss: 0.6131\n",
      "Epoch 181/200\n",
      "4050/4050 [==============================] - 0s 40us/step - loss: 0.6514 - val_loss: 0.6142\n",
      "Epoch 182/200\n",
      "4050/4050 [==============================] - 0s 41us/step - loss: 0.6510 - val_loss: 0.6127\n",
      "Epoch 183/200\n",
      "4050/4050 [==============================] - 0s 39us/step - loss: 0.6507 - val_loss: 0.6146\n",
      "Epoch 184/200\n",
      "4050/4050 [==============================] - 0s 40us/step - loss: 0.6503 - val_loss: 0.6131\n",
      "Epoch 185/200\n",
      "4050/4050 [==============================] - 0s 41us/step - loss: 0.6499 - val_loss: 0.6138\n",
      "Epoch 186/200\n",
      "4050/4050 [==============================] - 0s 40us/step - loss: 0.6496 - val_loss: 0.6153\n",
      "Epoch 187/200\n",
      "4050/4050 [==============================] - 0s 41us/step - loss: 0.6492 - val_loss: 0.6132\n",
      "Epoch 188/200\n",
      "4050/4050 [==============================] - 0s 40us/step - loss: 0.6489 - val_loss: 0.6170\n",
      "Epoch 189/200\n",
      "4050/4050 [==============================] - 0s 40us/step - loss: 0.6485 - val_loss: 0.6130\n",
      "Epoch 190/200\n",
      "4050/4050 [==============================] - 0s 40us/step - loss: 0.6482 - val_loss: 0.6155\n",
      "Epoch 191/200\n",
      "4050/4050 [==============================] - 0s 40us/step - loss: 0.6478 - val_loss: 0.6145\n",
      "Epoch 192/200\n",
      "4050/4050 [==============================] - 0s 40us/step - loss: 0.6474 - val_loss: 0.6136\n",
      "Epoch 193/200\n",
      "4050/4050 [==============================] - 0s 41us/step - loss: 0.6471 - val_loss: 0.6181\n",
      "Epoch 194/200\n",
      "4050/4050 [==============================] - 0s 40us/step - loss: 0.6468 - val_loss: 0.6138\n",
      "Epoch 195/200\n",
      "4050/4050 [==============================] - 0s 40us/step - loss: 0.6464 - val_loss: 0.6184\n",
      "Epoch 196/200\n",
      "4050/4050 [==============================] - 0s 40us/step - loss: 0.6461 - val_loss: 0.6141\n",
      "Epoch 197/200\n",
      "4050/4050 [==============================] - 0s 39us/step - loss: 0.6457 - val_loss: 0.6152\n",
      "Epoch 198/200\n",
      "4050/4050 [==============================] - 0s 40us/step - loss: 0.6454 - val_loss: 0.6166\n",
      "Epoch 199/200\n",
      "4050/4050 [==============================] - 0s 40us/step - loss: 0.6450 - val_loss: 0.6141\n",
      "Epoch 200/200\n",
      "4050/4050 [==============================] - 0s 39us/step - loss: 0.6447 - val_loss: 0.6194\n"
     ]
    }
   ],
   "source": [
    "#training:\n",
    "\n",
    "#dnn.load_weights('pca_dnn_f_Sav_BC_func_m4500_B_200_100_50_l1_0tanlr0_001noB.h5') #to load saved weights, if necessary\n",
    "dnn.fit(x={'bathymetry':x_train_norm_shfl[:-P,:], 'BC':BC_shfl[:,:-P].T},y=y_train_norm_shfl[:-P,:],\n",
    "       epochs=400,batch_size=32,shuffle=False,validation_split=val_split)\n",
    "dnn.save_weights('pca_dnn_f_Sav_BC_func_m4500_B_200_100_50_l1_0tanlr0_001noB.h5') #to save optimized weights"
   ]
  },
  {
   "cell_type": "code",
   "execution_count": 24,
   "metadata": {},
   "outputs": [
    {
     "name": "stdout",
     "output_type": "stream",
     "text": [
      "(4950, 50)\n"
     ]
    }
   ],
   "source": [
    "#calculate DNN predictions (normalized):\n",
    "\n",
    "y_dnn_pred = dnn.predict([x_train_norm_shfl,BC_shfl.T]) #dnn output\n",
    "\n",
    "#check shape:\n",
    "print(y_dnn_pred.shape)"
   ]
  },
  {
   "cell_type": "code",
   "execution_count": 25,
   "metadata": {},
   "outputs": [
    {
     "name": "stdout",
     "output_type": "stream",
     "text": [
      "(20541, 4950)\n"
     ]
    }
   ],
   "source": [
    "#calculate DNN predictions:\n",
    "\n",
    "y_pred=y_dnn_pred*y_range+y_min #predicted output\n",
    "\n",
    "y_pred_pca = U_vx[:, :n_low_vx].dot(y_pred.T) #project back\n",
    "\n",
    "#check shape:\n",
    "print(y_pred_pca.shape)"
   ]
  },
  {
   "cell_type": "code",
   "execution_count": 35,
   "metadata": {},
   "outputs": [
    {
     "name": "stdout",
     "output_type": "stream",
     "text": [
      "train err [ft/s]: 0.1968724042967052\n",
      "test err [ft/s]: 0.19802780156711872\n",
      "validation err [ft/s]: 0.21627368172152206\n"
     ]
    }
   ],
   "source": [
    "#rmse of train/test/validation:\n",
    "\n",
    "print('train err [ft/s]:',np.sqrt(np.mean((y_pred_pca[:,:int(N-val_split*N)]-vx_shfl[:,:int(N-val_split*N)])**2)))\n",
    "print('test err [ft/s]:',np.sqrt(np.mean((y_pred_pca[:,int(N-val_split*N):N]-vx_shfl[:,int(N-val_split*N):N])**2)))\n",
    "print('validation err [ft/s]:',np.sqrt(np.mean((y_pred_pca[:,N:]-vx_shfl[:,N:])**2)))"
   ]
  },
  {
   "cell_type": "code",
   "execution_count": 27,
   "metadata": {},
   "outputs": [],
   "source": [
    "#prepare the data for plotting\n",
    "\n",
    "x_plt=np.zeros((N+P,41, 501))\n",
    "x_plt[:,:40,:500]=y_pred_pca.T.reshape(-1,41,501)[:,:40,:500].squeeze()\n",
    "x_plt[:, 40,:]=x_plt[:, 39,:]\n",
    "x_plt[:, :,500]=x_plt[:, :,499]\n",
    "y_plt=np.zeros((N+P,41, 501))\n",
    "y_plt[:,:40,:500]=vx_shfl.T.reshape(-1,41,501)[:,:40,:500].squeeze()\n",
    "y_plt[:, 40,:]=y_plt[:, 39,:]\n",
    "y_plt[:, :,500]=y_plt[:, :,499]"
   ]
  },
  {
   "cell_type": "code",
   "execution_count": 37,
   "metadata": {},
   "outputs": [
    {
     "data": {
      "image/png": "[encoded data removed]",
      "text/plain": [
       "<Figure size 1000x1000 with 2 Axes>"
      ]
     },
     "metadata": {
      "needs_background": "light"
     },
     "output_type": "display_data"
    },
    {
     "data": {
      "image/png": "[encoded data removed]",
      "text/plain": [
       "<Figure size 1000x1000 with 2 Axes>"
      ]
     },
     "metadata": {
      "needs_background": "light"
     },
     "output_type": "display_data"
    }
   ],
   "source": [
    "#plot some results:\n",
    "\n",
    "#index (k<int(N-val_split*N) is a train data, int(N-val_split*N)<k<N is a test data, k>N is a validation data)\n",
    "k=4700\n",
    "\n",
    "dp.plt_im_tri(depth=y_plt[k, :,:].ravel(), fig_title= 'reference', fig_name='ref_global.png',vmin_=-0.5, vmax_=0.6)\n",
    "dp.plt_im_tri(depth=(x_plt[k, :,:]).ravel(), fig_title= 'PCA-DNN prediction', fig_name='pca_dnn_global.png',vmin_=-0.5, vmax_=0.6)"
   ]
  },
  {
   "cell_type": "code",
   "execution_count": null,
   "metadata": {},
   "outputs": [],
   "source": []
  }
 ],
 "metadata": {
  "kernelspec": {
   "display_name": "Python 3",
   "language": "python",
   "name": "python3"
  },
  "language_info": {
   "codemirror_mode": {
    "name": "ipython",
    "version": 3
   },
   "file_extension": ".py",
   "mimetype": "text/x-python",
   "name": "python",
   "nbconvert_exporter": "python",
   "pygments_lexer": "ipython3",
   "version": "3.7.4"
  }
 },
 "nbformat": 4,
 "nbformat_minor": 4
}
